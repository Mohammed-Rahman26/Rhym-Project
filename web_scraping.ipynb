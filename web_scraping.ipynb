{
  "cells": [
    {
      "cell_type": "code",
      "execution_count": 1,
      "metadata": {
        "id": "YJJc2HZuq6wY"
      },
      "outputs": [
        {
          "ename": "ModuleNotFoundError",
          "evalue": "No module named 'requests'",
          "output_type": "error",
          "traceback": [
            "\u001b[0;31m---------------------------------------------------------------------------\u001b[0m",
            "\u001b[0;31mModuleNotFoundError\u001b[0m                       Traceback (most recent call last)",
            "Cell \u001b[0;32mIn[1], line 1\u001b[0m\n\u001b[0;32m----> 1\u001b[0m \u001b[38;5;28;01mimport\u001b[39;00m\u001b[38;5;250m \u001b[39m\u001b[38;5;21;01mrequests\u001b[39;00m\n\u001b[1;32m      2\u001b[0m \u001b[38;5;28;01mfrom\u001b[39;00m\u001b[38;5;250m \u001b[39m\u001b[38;5;21;01mbs4\u001b[39;00m\u001b[38;5;250m \u001b[39m\u001b[38;5;28;01mimport\u001b[39;00m BeautifulSoup\n",
            "\u001b[0;31mModuleNotFoundError\u001b[0m: No module named 'requests'"
          ]
        }
      ],
      "source": [
        "import requests\n",
        "from bs4 import BeautifulSoup"
      ]
    },
    {
      "cell_type": "code",
      "execution_count": 166,
      "metadata": {
        "colab": {
          "base_uri": "https://localhost:8080/",
          "height": 494
        },
        "collapsed": true,
        "id": "z851VC1mxW14",
        "outputId": "5acb9cee-332a-40c4-f289-e7ae9226f2ea"
      },
      "outputs": [
        {
          "name": "stdout",
          "output_type": "stream",
          "text": [
            "{'technique': 'Abuse Elevation Control Mechanism', 'description': 'Adversaries may circumvent mechanisms designed to control elevate privileges to gain higher-level permissions. Most modern systems contain native elevation control mechanisms that are intended to limit privileges that a user can perform on a machine. Authorization has to be granted to specific users in order to perform tasks that can be considered of higher risk.[1][2] An adversary can perform several methods to take advantage of built-in control mechanisms in order to escalate privileges on a system.[3][4]', 'ID': 'T1548', 'Sub Technique': 'T1548.001,T1548.002,T1548.003,T1548.004,T1548.005,T1548.006', 'Tactic': 'PrivilegeEscalation,DefenseEvasion', 'Platforms': 'IaaS, Identity Provider, Linux, Office Suite, Windows, macOS', 'Impacted Type': 'Administrator, User', 'Contributor': '1.4', 'Versions': '1.4', 'Created': '30 January 2020', 'Last Modified': '15 October 2024'}\n",
            "{'technique': 'Access Token Manipulation', 'description': 'Adversaries may modify access tokens to operate under a different user or system security context to perform actions and bypass access controls. Windows uses access tokens to determine the ownership of a running process. A user can manipulate access tokens to make a running process appear as though it is the child of a different process or belongs to someone other than the user that started the process. When this occurs, the process also takes on the security context associated with the new token.An adversary can use built-in Windows API functions to copy access tokens from existing processes; this is known as token stealing. These token can then be applied to an existing process (i.e. Token Impersonation/Theft) or used to spawn a new process (i.e. Create Process with Token). An adversary must already be in a privileged user context (i.e. administrator) to steal a token. However, adversaries commonly use token stealing to elevate their security context from the administrator level to the SYSTEM level. An adversary can then use a token to authenticate to a remote system as the account for that token if the account has appropriate permissions on the remote system.[1]Any standard user can use the runas command, and the Windows API functions, to create impersonation tokens; it does not require access to an administrator account. There are also other mechanisms, such as Active Directory fields, that can be used to modify access tokens.', 'ID': 'T1134', 'Sub Technique': 'T1134.001,T1134.002,T1134.003,T1134.004,T1134.005', 'Tactic': 'DefenseEvasion,PrivilegeEscalation', 'Platforms': 'Windows', 'Impacted Type': 'Administrator, User', 'Contributor': 'SYSTEM', 'Versions': '2.0', 'Created': '14 December 2017', 'Last Modified': '30 March 2023'}\n",
            "{'technique': 'Account Access Removal', 'description': 'Adversaries may interrupt availability of system and network resources by inhibiting access to accounts utilized by legitimate users. Accounts may be deleted, locked, or manipulated (ex: changed credentials) to remove access to accounts. Adversaries may also subsequently log off and/or perform a System Shutdown/Reboot to set malicious changes into place.[1][2]In Windows, Net utility, Set-LocalUser and Set-ADAccountPassword PowerShell cmdlets may be used by adversaries to modify user accounts. In Linux, the passwd utility may be used to change passwords. Accounts could also be disabled by Group Policy. Adversaries who use ransomware or similar attacks may first perform this and other Impact behaviors, such as Data Destruction and Defacement, in order to impede incident response/recovery before completing the Data Encrypted for Impact objective.', 'ID': 'T1531', 'Sub Technique': 'Nosub-techniques', 'Tactic': 'Impact', 'Platforms': 'IaaS, Linux, Office Suite, SaaS, Windows, macOS', 'Impacted Type': 'Availability', 'Contributor': 'Arun Seelagan, CISA; Hubert Mank', 'Versions': '1.3', 'Created': '09 October 2019', 'Last Modified': '15 October 2024'}\n",
            "{'technique': 'Account Discovery', 'description': 'Adversaries may attempt to get a listing of valid accounts, usernames, or email addresses on a system or within a compromised environment. This information can help adversaries determine which accounts exist, which can aid in follow-on behavior such as brute-forcing, spear-phishing attacks, or account takeovers (e.g., Valid Accounts).Adversaries may use several methods to enumerate accounts, including abuse of existing tools, built-in commands, and potential misconfigurations that leak account names and roles or permissions in the targeted environment.For examples, cloud environments typically provide easily accessible interfaces to obtain user lists.[1][2] On hosts, adversaries can use default PowerShell and other command line functionality to identify accounts. Information about email addresses and accounts may also be extracted by searching an infected system’s files.', 'ID': 'T1087', 'Sub Technique': 'T1087.001,T1087.002,T1087.003,T1087.004', 'Tactic': 'Discovery', 'Platforms': 'IaaS, Identity Provider, Linux, Office Suite, SaaS, Windows, macOS', 'Impacted Type': 'Daniel Stepanic, Elastic; Microsoft Threat Intelligence Center (MSTIC); Travis Smith, Tripwire', 'Contributor': '2.5', 'Versions': '2.5', 'Created': '31 May 2017', 'Last Modified': '15 October 2024'}\n",
            "{'technique': 'Account Manipulation', 'description': 'Adversaries may manipulate accounts to maintain and/or elevate access to victim systems. Account manipulation may consist of any action that preserves or modifies adversary access to a compromised account, such as modifying credentials or permission groups.[1] These actions could also include account activity designed to subvert security policies, such as performing iterative password updates to bypass password duration policies and preserve the life of compromised credentials. In order to create or manipulate accounts, the adversary must already have sufficient permissions on systems or the domain. However, account manipulation may also lead to privilege escalation where modifications grant access to additional roles, permissions, or higher-privileged Valid Accounts.', 'ID': 'T1098', 'Sub Technique': 'T1098.001,T1098.002,T1098.003,T1098.004,T1098.005,T1098.006,T1098.007', 'Tactic': 'Persistence,PrivilegeEscalation', 'Platforms': 'Containers, IaaS, Identity Provider, Linux, Network, Office Suite, SaaS, Windows, macOS', 'Impacted Type': 'Arad Inbar, Fidelis Security; Jannie Li, Microsoft Threat Intelligence\\u202fCenter\\u202f(MSTIC); Praetorian; Tim MalcomVetter; Wojciech Lesicki', 'Contributor': '2.7', 'Versions': '2.7', 'Created': '31 May 2017', 'Last Modified': '15 October 2024'}\n",
            "{'technique': 'Acquire Access', 'description': 'Adversaries may purchase or otherwise acquire an existing access to a target system or network. A variety of online services and initial access broker networks are available to sell access to previously compromised systems.[1][2][3] In some cases, adversary groups may form partnerships to share compromised systems with each other.[4]Footholds to compromised systems may take a variety of forms, such as access to planted backdoors (e.g., Web Shell) or established access via External Remote Services. In some cases, access brokers will implant compromised systems with a \"load\" that can be used to install additional malware for paying customers.[1]By leveraging existing access broker networks rather than developing or obtaining their own initial access capabilities, an adversary can potentially reduce the resources required to gain a foothold on a target network and focus their efforts on later stages of compromise. Adversaries may prioritize acquiring access to systems that have been determined to lack security monitoring or that have high privileges, or systems that belong to organizations in a particular sector.[1][2]In some cases, purchasing access to an organization in sectors such as IT contracting, software development, or telecommunications may allow an adversary to compromise additional victims via a Trusted Relationship, Multi-Factor Authentication Interception, or even Supply Chain Compromise.Note: while this technique is distinct from other behaviors such as Purchase Technical Data and Credentials, they may often be used in conjunction (especially where the acquired foothold requires Valid Accounts).', 'ID': 'T1650', 'Sub Technique': 'Nosub-techniques', 'Tactic': 'ResourceDevelopment', 'Platforms': 'PRE', 'Impacted Type': 'Jeffrey Barto; Jeremy Kennelly', 'Contributor': '1.0', 'Versions': '1.0', 'Created': '10 March 2023', 'Last Modified': '14 April 2023'}\n"
          ]
        },
        {
          "ename": "KeyboardInterrupt",
          "evalue": "",
          "output_type": "error",
          "traceback": [
            "\u001b[0;31m---------------------------------------------------------------------------\u001b[0m",
            "\u001b[0;31mKeyboardInterrupt\u001b[0m                         Traceback (most recent call last)",
            "\u001b[0;32m<ipython-input-166-71110d848e0f>\u001b[0m in \u001b[0;36m<cell line: 0>\u001b[0;34m()\u001b[0m\n\u001b[1;32m     11\u001b[0m     \u001b[0mmain_url1\u001b[0m\u001b[0;34m=\u001b[0m\u001b[0;34m\"https://attack.mitre.org/\"\u001b[0m\u001b[0;34m\u001b[0m\u001b[0;34m\u001b[0m\u001b[0m\n\u001b[1;32m     12\u001b[0m     \u001b[0mfull_url1\u001b[0m\u001b[0;34m=\u001b[0m\u001b[0mmain_url1\u001b[0m\u001b[0;34m+\u001b[0m\u001b[0mname_url1\u001b[0m\u001b[0;34m\u001b[0m\u001b[0;34m\u001b[0m\u001b[0m\n\u001b[0;32m---> 13\u001b[0;31m     \u001b[0mresponse\u001b[0m\u001b[0;34m=\u001b[0m\u001b[0mrequests\u001b[0m\u001b[0;34m.\u001b[0m\u001b[0mget\u001b[0m\u001b[0;34m(\u001b[0m\u001b[0mfull_url1\u001b[0m\u001b[0;34m)\u001b[0m\u001b[0;34m\u001b[0m\u001b[0;34m\u001b[0m\u001b[0m\n\u001b[0m\u001b[1;32m     14\u001b[0m     \u001b[0;32mif\u001b[0m \u001b[0mresponse\u001b[0m\u001b[0;34m.\u001b[0m\u001b[0mstatus_code\u001b[0m\u001b[0;34m==\u001b[0m\u001b[0;36m200\u001b[0m\u001b[0;34m:\u001b[0m\u001b[0;34m\u001b[0m\u001b[0;34m\u001b[0m\u001b[0m\n\u001b[1;32m     15\u001b[0m       \u001b[0;31m#print(response.text)\u001b[0m\u001b[0;34m\u001b[0m\u001b[0;34m\u001b[0m\u001b[0m\n",
            "\u001b[0;32m/usr/local/lib/python3.11/dist-packages/requests/api.py\u001b[0m in \u001b[0;36mget\u001b[0;34m(url, params, **kwargs)\u001b[0m\n\u001b[1;32m     71\u001b[0m     \"\"\"\n\u001b[1;32m     72\u001b[0m \u001b[0;34m\u001b[0m\u001b[0m\n\u001b[0;32m---> 73\u001b[0;31m     \u001b[0;32mreturn\u001b[0m \u001b[0mrequest\u001b[0m\u001b[0;34m(\u001b[0m\u001b[0;34m\"get\"\u001b[0m\u001b[0;34m,\u001b[0m \u001b[0murl\u001b[0m\u001b[0;34m,\u001b[0m \u001b[0mparams\u001b[0m\u001b[0;34m=\u001b[0m\u001b[0mparams\u001b[0m\u001b[0;34m,\u001b[0m \u001b[0;34m**\u001b[0m\u001b[0mkwargs\u001b[0m\u001b[0;34m)\u001b[0m\u001b[0;34m\u001b[0m\u001b[0;34m\u001b[0m\u001b[0m\n\u001b[0m\u001b[1;32m     74\u001b[0m \u001b[0;34m\u001b[0m\u001b[0m\n\u001b[1;32m     75\u001b[0m \u001b[0;34m\u001b[0m\u001b[0m\n",
            "\u001b[0;32m/usr/local/lib/python3.11/dist-packages/requests/api.py\u001b[0m in \u001b[0;36mrequest\u001b[0;34m(method, url, **kwargs)\u001b[0m\n\u001b[1;32m     57\u001b[0m     \u001b[0;31m# cases, and look like a memory leak in others.\u001b[0m\u001b[0;34m\u001b[0m\u001b[0;34m\u001b[0m\u001b[0m\n\u001b[1;32m     58\u001b[0m     \u001b[0;32mwith\u001b[0m \u001b[0msessions\u001b[0m\u001b[0;34m.\u001b[0m\u001b[0mSession\u001b[0m\u001b[0;34m(\u001b[0m\u001b[0;34m)\u001b[0m \u001b[0;32mas\u001b[0m \u001b[0msession\u001b[0m\u001b[0;34m:\u001b[0m\u001b[0;34m\u001b[0m\u001b[0;34m\u001b[0m\u001b[0m\n\u001b[0;32m---> 59\u001b[0;31m         \u001b[0;32mreturn\u001b[0m \u001b[0msession\u001b[0m\u001b[0;34m.\u001b[0m\u001b[0mrequest\u001b[0m\u001b[0;34m(\u001b[0m\u001b[0mmethod\u001b[0m\u001b[0;34m=\u001b[0m\u001b[0mmethod\u001b[0m\u001b[0;34m,\u001b[0m \u001b[0murl\u001b[0m\u001b[0;34m=\u001b[0m\u001b[0murl\u001b[0m\u001b[0;34m,\u001b[0m \u001b[0;34m**\u001b[0m\u001b[0mkwargs\u001b[0m\u001b[0;34m)\u001b[0m\u001b[0;34m\u001b[0m\u001b[0;34m\u001b[0m\u001b[0m\n\u001b[0m\u001b[1;32m     60\u001b[0m \u001b[0;34m\u001b[0m\u001b[0m\n\u001b[1;32m     61\u001b[0m \u001b[0;34m\u001b[0m\u001b[0m\n",
            "\u001b[0;32m/usr/local/lib/python3.11/dist-packages/requests/sessions.py\u001b[0m in \u001b[0;36mrequest\u001b[0;34m(self, method, url, params, data, headers, cookies, files, auth, timeout, allow_redirects, proxies, hooks, stream, verify, cert, json)\u001b[0m\n\u001b[1;32m    587\u001b[0m         }\n\u001b[1;32m    588\u001b[0m         \u001b[0msend_kwargs\u001b[0m\u001b[0;34m.\u001b[0m\u001b[0mupdate\u001b[0m\u001b[0;34m(\u001b[0m\u001b[0msettings\u001b[0m\u001b[0;34m)\u001b[0m\u001b[0;34m\u001b[0m\u001b[0;34m\u001b[0m\u001b[0m\n\u001b[0;32m--> 589\u001b[0;31m         \u001b[0mresp\u001b[0m \u001b[0;34m=\u001b[0m \u001b[0mself\u001b[0m\u001b[0;34m.\u001b[0m\u001b[0msend\u001b[0m\u001b[0;34m(\u001b[0m\u001b[0mprep\u001b[0m\u001b[0;34m,\u001b[0m \u001b[0;34m**\u001b[0m\u001b[0msend_kwargs\u001b[0m\u001b[0;34m)\u001b[0m\u001b[0;34m\u001b[0m\u001b[0;34m\u001b[0m\u001b[0m\n\u001b[0m\u001b[1;32m    590\u001b[0m \u001b[0;34m\u001b[0m\u001b[0m\n\u001b[1;32m    591\u001b[0m         \u001b[0;32mreturn\u001b[0m \u001b[0mresp\u001b[0m\u001b[0;34m\u001b[0m\u001b[0;34m\u001b[0m\u001b[0m\n",
            "\u001b[0;32m/usr/local/lib/python3.11/dist-packages/requests/sessions.py\u001b[0m in \u001b[0;36msend\u001b[0;34m(self, request, **kwargs)\u001b[0m\n\u001b[1;32m    722\u001b[0m             \u001b[0;31m# Redirect resolving generator.\u001b[0m\u001b[0;34m\u001b[0m\u001b[0;34m\u001b[0m\u001b[0m\n\u001b[1;32m    723\u001b[0m             \u001b[0mgen\u001b[0m \u001b[0;34m=\u001b[0m \u001b[0mself\u001b[0m\u001b[0;34m.\u001b[0m\u001b[0mresolve_redirects\u001b[0m\u001b[0;34m(\u001b[0m\u001b[0mr\u001b[0m\u001b[0;34m,\u001b[0m \u001b[0mrequest\u001b[0m\u001b[0;34m,\u001b[0m \u001b[0;34m**\u001b[0m\u001b[0mkwargs\u001b[0m\u001b[0;34m)\u001b[0m\u001b[0;34m\u001b[0m\u001b[0;34m\u001b[0m\u001b[0m\n\u001b[0;32m--> 724\u001b[0;31m             \u001b[0mhistory\u001b[0m \u001b[0;34m=\u001b[0m \u001b[0;34m[\u001b[0m\u001b[0mresp\u001b[0m \u001b[0;32mfor\u001b[0m \u001b[0mresp\u001b[0m \u001b[0;32min\u001b[0m \u001b[0mgen\u001b[0m\u001b[0;34m]\u001b[0m\u001b[0;34m\u001b[0m\u001b[0;34m\u001b[0m\u001b[0m\n\u001b[0m\u001b[1;32m    725\u001b[0m         \u001b[0;32melse\u001b[0m\u001b[0;34m:\u001b[0m\u001b[0;34m\u001b[0m\u001b[0;34m\u001b[0m\u001b[0m\n\u001b[1;32m    726\u001b[0m             \u001b[0mhistory\u001b[0m \u001b[0;34m=\u001b[0m \u001b[0;34m[\u001b[0m\u001b[0;34m]\u001b[0m\u001b[0;34m\u001b[0m\u001b[0;34m\u001b[0m\u001b[0m\n",
            "\u001b[0;32m/usr/local/lib/python3.11/dist-packages/requests/sessions.py\u001b[0m in \u001b[0;36m<listcomp>\u001b[0;34m(.0)\u001b[0m\n\u001b[1;32m    722\u001b[0m             \u001b[0;31m# Redirect resolving generator.\u001b[0m\u001b[0;34m\u001b[0m\u001b[0;34m\u001b[0m\u001b[0m\n\u001b[1;32m    723\u001b[0m             \u001b[0mgen\u001b[0m \u001b[0;34m=\u001b[0m \u001b[0mself\u001b[0m\u001b[0;34m.\u001b[0m\u001b[0mresolve_redirects\u001b[0m\u001b[0;34m(\u001b[0m\u001b[0mr\u001b[0m\u001b[0;34m,\u001b[0m \u001b[0mrequest\u001b[0m\u001b[0;34m,\u001b[0m \u001b[0;34m**\u001b[0m\u001b[0mkwargs\u001b[0m\u001b[0;34m)\u001b[0m\u001b[0;34m\u001b[0m\u001b[0;34m\u001b[0m\u001b[0m\n\u001b[0;32m--> 724\u001b[0;31m             \u001b[0mhistory\u001b[0m \u001b[0;34m=\u001b[0m \u001b[0;34m[\u001b[0m\u001b[0mresp\u001b[0m \u001b[0;32mfor\u001b[0m \u001b[0mresp\u001b[0m \u001b[0;32min\u001b[0m \u001b[0mgen\u001b[0m\u001b[0;34m]\u001b[0m\u001b[0;34m\u001b[0m\u001b[0;34m\u001b[0m\u001b[0m\n\u001b[0m\u001b[1;32m    725\u001b[0m         \u001b[0;32melse\u001b[0m\u001b[0;34m:\u001b[0m\u001b[0;34m\u001b[0m\u001b[0;34m\u001b[0m\u001b[0m\n\u001b[1;32m    726\u001b[0m             \u001b[0mhistory\u001b[0m \u001b[0;34m=\u001b[0m \u001b[0;34m[\u001b[0m\u001b[0;34m]\u001b[0m\u001b[0;34m\u001b[0m\u001b[0;34m\u001b[0m\u001b[0m\n",
            "\u001b[0;32m/usr/local/lib/python3.11/dist-packages/requests/sessions.py\u001b[0m in \u001b[0;36mresolve_redirects\u001b[0;34m(self, resp, req, stream, timeout, verify, cert, proxies, yield_requests, **adapter_kwargs)\u001b[0m\n\u001b[1;32m    263\u001b[0m                 \u001b[0;32myield\u001b[0m \u001b[0mreq\u001b[0m\u001b[0;34m\u001b[0m\u001b[0;34m\u001b[0m\u001b[0m\n\u001b[1;32m    264\u001b[0m             \u001b[0;32melse\u001b[0m\u001b[0;34m:\u001b[0m\u001b[0;34m\u001b[0m\u001b[0;34m\u001b[0m\u001b[0m\n\u001b[0;32m--> 265\u001b[0;31m                 resp = self.send(\n\u001b[0m\u001b[1;32m    266\u001b[0m                     \u001b[0mreq\u001b[0m\u001b[0;34m,\u001b[0m\u001b[0;34m\u001b[0m\u001b[0;34m\u001b[0m\u001b[0m\n\u001b[1;32m    267\u001b[0m                     \u001b[0mstream\u001b[0m\u001b[0;34m=\u001b[0m\u001b[0mstream\u001b[0m\u001b[0;34m,\u001b[0m\u001b[0;34m\u001b[0m\u001b[0;34m\u001b[0m\u001b[0m\n",
            "\u001b[0;32m/usr/local/lib/python3.11/dist-packages/requests/sessions.py\u001b[0m in \u001b[0;36msend\u001b[0;34m(self, request, **kwargs)\u001b[0m\n\u001b[1;32m    701\u001b[0m \u001b[0;34m\u001b[0m\u001b[0m\n\u001b[1;32m    702\u001b[0m         \u001b[0;31m# Send the request\u001b[0m\u001b[0;34m\u001b[0m\u001b[0;34m\u001b[0m\u001b[0m\n\u001b[0;32m--> 703\u001b[0;31m         \u001b[0mr\u001b[0m \u001b[0;34m=\u001b[0m \u001b[0madapter\u001b[0m\u001b[0;34m.\u001b[0m\u001b[0msend\u001b[0m\u001b[0;34m(\u001b[0m\u001b[0mrequest\u001b[0m\u001b[0;34m,\u001b[0m \u001b[0;34m**\u001b[0m\u001b[0mkwargs\u001b[0m\u001b[0;34m)\u001b[0m\u001b[0;34m\u001b[0m\u001b[0;34m\u001b[0m\u001b[0m\n\u001b[0m\u001b[1;32m    704\u001b[0m \u001b[0;34m\u001b[0m\u001b[0m\n\u001b[1;32m    705\u001b[0m         \u001b[0;31m# Total elapsed time of the request (approximately)\u001b[0m\u001b[0;34m\u001b[0m\u001b[0;34m\u001b[0m\u001b[0m\n",
            "\u001b[0;32m/usr/local/lib/python3.11/dist-packages/requests/adapters.py\u001b[0m in \u001b[0;36msend\u001b[0;34m(self, request, stream, timeout, verify, cert, proxies)\u001b[0m\n\u001b[1;32m    665\u001b[0m \u001b[0;34m\u001b[0m\u001b[0m\n\u001b[1;32m    666\u001b[0m         \u001b[0;32mtry\u001b[0m\u001b[0;34m:\u001b[0m\u001b[0;34m\u001b[0m\u001b[0;34m\u001b[0m\u001b[0m\n\u001b[0;32m--> 667\u001b[0;31m             resp = conn.urlopen(\n\u001b[0m\u001b[1;32m    668\u001b[0m                 \u001b[0mmethod\u001b[0m\u001b[0;34m=\u001b[0m\u001b[0mrequest\u001b[0m\u001b[0;34m.\u001b[0m\u001b[0mmethod\u001b[0m\u001b[0;34m,\u001b[0m\u001b[0;34m\u001b[0m\u001b[0;34m\u001b[0m\u001b[0m\n\u001b[1;32m    669\u001b[0m                 \u001b[0murl\u001b[0m\u001b[0;34m=\u001b[0m\u001b[0murl\u001b[0m\u001b[0;34m,\u001b[0m\u001b[0;34m\u001b[0m\u001b[0;34m\u001b[0m\u001b[0m\n",
            "\u001b[0;32m/usr/local/lib/python3.11/dist-packages/urllib3/connectionpool.py\u001b[0m in \u001b[0;36murlopen\u001b[0;34m(self, method, url, body, headers, retries, redirect, assert_same_host, timeout, pool_timeout, release_conn, chunked, body_pos, preload_content, decode_content, **response_kw)\u001b[0m\n\u001b[1;32m    785\u001b[0m \u001b[0;34m\u001b[0m\u001b[0m\n\u001b[1;32m    786\u001b[0m             \u001b[0;31m# Make the request on the HTTPConnection object\u001b[0m\u001b[0;34m\u001b[0m\u001b[0;34m\u001b[0m\u001b[0m\n\u001b[0;32m--> 787\u001b[0;31m             response = self._make_request(\n\u001b[0m\u001b[1;32m    788\u001b[0m                 \u001b[0mconn\u001b[0m\u001b[0;34m,\u001b[0m\u001b[0;34m\u001b[0m\u001b[0;34m\u001b[0m\u001b[0m\n\u001b[1;32m    789\u001b[0m                 \u001b[0mmethod\u001b[0m\u001b[0;34m,\u001b[0m\u001b[0;34m\u001b[0m\u001b[0;34m\u001b[0m\u001b[0m\n",
            "\u001b[0;32m/usr/local/lib/python3.11/dist-packages/urllib3/connectionpool.py\u001b[0m in \u001b[0;36m_make_request\u001b[0;34m(self, conn, method, url, body, headers, retries, timeout, chunked, response_conn, preload_content, decode_content, enforce_content_length)\u001b[0m\n\u001b[1;32m    532\u001b[0m         \u001b[0;31m# Receive the response from the server\u001b[0m\u001b[0;34m\u001b[0m\u001b[0;34m\u001b[0m\u001b[0m\n\u001b[1;32m    533\u001b[0m         \u001b[0;32mtry\u001b[0m\u001b[0;34m:\u001b[0m\u001b[0;34m\u001b[0m\u001b[0;34m\u001b[0m\u001b[0m\n\u001b[0;32m--> 534\u001b[0;31m             \u001b[0mresponse\u001b[0m \u001b[0;34m=\u001b[0m \u001b[0mconn\u001b[0m\u001b[0;34m.\u001b[0m\u001b[0mgetresponse\u001b[0m\u001b[0;34m(\u001b[0m\u001b[0;34m)\u001b[0m\u001b[0;34m\u001b[0m\u001b[0;34m\u001b[0m\u001b[0m\n\u001b[0m\u001b[1;32m    535\u001b[0m         \u001b[0;32mexcept\u001b[0m \u001b[0;34m(\u001b[0m\u001b[0mBaseSSLError\u001b[0m\u001b[0;34m,\u001b[0m \u001b[0mOSError\u001b[0m\u001b[0;34m)\u001b[0m \u001b[0;32mas\u001b[0m \u001b[0me\u001b[0m\u001b[0;34m:\u001b[0m\u001b[0;34m\u001b[0m\u001b[0;34m\u001b[0m\u001b[0m\n\u001b[1;32m    536\u001b[0m             \u001b[0mself\u001b[0m\u001b[0;34m.\u001b[0m\u001b[0m_raise_timeout\u001b[0m\u001b[0;34m(\u001b[0m\u001b[0merr\u001b[0m\u001b[0;34m=\u001b[0m\u001b[0me\u001b[0m\u001b[0;34m,\u001b[0m \u001b[0murl\u001b[0m\u001b[0;34m=\u001b[0m\u001b[0murl\u001b[0m\u001b[0;34m,\u001b[0m \u001b[0mtimeout_value\u001b[0m\u001b[0;34m=\u001b[0m\u001b[0mread_timeout\u001b[0m\u001b[0;34m)\u001b[0m\u001b[0;34m\u001b[0m\u001b[0;34m\u001b[0m\u001b[0m\n",
            "\u001b[0;32m/usr/local/lib/python3.11/dist-packages/urllib3/connection.py\u001b[0m in \u001b[0;36mgetresponse\u001b[0;34m(self)\u001b[0m\n\u001b[1;32m    514\u001b[0m \u001b[0;34m\u001b[0m\u001b[0m\n\u001b[1;32m    515\u001b[0m         \u001b[0;31m# Get the response from http.client.HTTPConnection\u001b[0m\u001b[0;34m\u001b[0m\u001b[0;34m\u001b[0m\u001b[0m\n\u001b[0;32m--> 516\u001b[0;31m         \u001b[0mhttplib_response\u001b[0m \u001b[0;34m=\u001b[0m \u001b[0msuper\u001b[0m\u001b[0;34m(\u001b[0m\u001b[0;34m)\u001b[0m\u001b[0;34m.\u001b[0m\u001b[0mgetresponse\u001b[0m\u001b[0;34m(\u001b[0m\u001b[0;34m)\u001b[0m\u001b[0;34m\u001b[0m\u001b[0;34m\u001b[0m\u001b[0m\n\u001b[0m\u001b[1;32m    517\u001b[0m \u001b[0;34m\u001b[0m\u001b[0m\n\u001b[1;32m    518\u001b[0m         \u001b[0;32mtry\u001b[0m\u001b[0;34m:\u001b[0m\u001b[0;34m\u001b[0m\u001b[0;34m\u001b[0m\u001b[0m\n",
            "\u001b[0;32m/usr/lib/python3.11/http/client.py\u001b[0m in \u001b[0;36mgetresponse\u001b[0;34m(self)\u001b[0m\n\u001b[1;32m   1393\u001b[0m         \u001b[0;32mtry\u001b[0m\u001b[0;34m:\u001b[0m\u001b[0;34m\u001b[0m\u001b[0;34m\u001b[0m\u001b[0m\n\u001b[1;32m   1394\u001b[0m             \u001b[0;32mtry\u001b[0m\u001b[0;34m:\u001b[0m\u001b[0;34m\u001b[0m\u001b[0;34m\u001b[0m\u001b[0m\n\u001b[0;32m-> 1395\u001b[0;31m                 \u001b[0mresponse\u001b[0m\u001b[0;34m.\u001b[0m\u001b[0mbegin\u001b[0m\u001b[0;34m(\u001b[0m\u001b[0;34m)\u001b[0m\u001b[0;34m\u001b[0m\u001b[0;34m\u001b[0m\u001b[0m\n\u001b[0m\u001b[1;32m   1396\u001b[0m             \u001b[0;32mexcept\u001b[0m \u001b[0mConnectionError\u001b[0m\u001b[0;34m:\u001b[0m\u001b[0;34m\u001b[0m\u001b[0;34m\u001b[0m\u001b[0m\n\u001b[1;32m   1397\u001b[0m                 \u001b[0mself\u001b[0m\u001b[0;34m.\u001b[0m\u001b[0mclose\u001b[0m\u001b[0;34m(\u001b[0m\u001b[0;34m)\u001b[0m\u001b[0;34m\u001b[0m\u001b[0;34m\u001b[0m\u001b[0m\n",
            "\u001b[0;32m/usr/lib/python3.11/http/client.py\u001b[0m in \u001b[0;36mbegin\u001b[0;34m(self)\u001b[0m\n\u001b[1;32m    323\u001b[0m         \u001b[0;31m# read until we get a non-100 response\u001b[0m\u001b[0;34m\u001b[0m\u001b[0;34m\u001b[0m\u001b[0m\n\u001b[1;32m    324\u001b[0m         \u001b[0;32mwhile\u001b[0m \u001b[0;32mTrue\u001b[0m\u001b[0;34m:\u001b[0m\u001b[0;34m\u001b[0m\u001b[0;34m\u001b[0m\u001b[0m\n\u001b[0;32m--> 325\u001b[0;31m             \u001b[0mversion\u001b[0m\u001b[0;34m,\u001b[0m \u001b[0mstatus\u001b[0m\u001b[0;34m,\u001b[0m \u001b[0mreason\u001b[0m \u001b[0;34m=\u001b[0m \u001b[0mself\u001b[0m\u001b[0;34m.\u001b[0m\u001b[0m_read_status\u001b[0m\u001b[0;34m(\u001b[0m\u001b[0;34m)\u001b[0m\u001b[0;34m\u001b[0m\u001b[0;34m\u001b[0m\u001b[0m\n\u001b[0m\u001b[1;32m    326\u001b[0m             \u001b[0;32mif\u001b[0m \u001b[0mstatus\u001b[0m \u001b[0;34m!=\u001b[0m \u001b[0mCONTINUE\u001b[0m\u001b[0;34m:\u001b[0m\u001b[0;34m\u001b[0m\u001b[0;34m\u001b[0m\u001b[0m\n\u001b[1;32m    327\u001b[0m                 \u001b[0;32mbreak\u001b[0m\u001b[0;34m\u001b[0m\u001b[0;34m\u001b[0m\u001b[0m\n",
            "\u001b[0;32m/usr/lib/python3.11/http/client.py\u001b[0m in \u001b[0;36m_read_status\u001b[0;34m(self)\u001b[0m\n\u001b[1;32m    284\u001b[0m \u001b[0;34m\u001b[0m\u001b[0m\n\u001b[1;32m    285\u001b[0m     \u001b[0;32mdef\u001b[0m \u001b[0m_read_status\u001b[0m\u001b[0;34m(\u001b[0m\u001b[0mself\u001b[0m\u001b[0;34m)\u001b[0m\u001b[0;34m:\u001b[0m\u001b[0;34m\u001b[0m\u001b[0;34m\u001b[0m\u001b[0m\n\u001b[0;32m--> 286\u001b[0;31m         \u001b[0mline\u001b[0m \u001b[0;34m=\u001b[0m \u001b[0mstr\u001b[0m\u001b[0;34m(\u001b[0m\u001b[0mself\u001b[0m\u001b[0;34m.\u001b[0m\u001b[0mfp\u001b[0m\u001b[0;34m.\u001b[0m\u001b[0mreadline\u001b[0m\u001b[0;34m(\u001b[0m\u001b[0m_MAXLINE\u001b[0m \u001b[0;34m+\u001b[0m \u001b[0;36m1\u001b[0m\u001b[0;34m)\u001b[0m\u001b[0;34m,\u001b[0m \u001b[0;34m\"iso-8859-1\"\u001b[0m\u001b[0;34m)\u001b[0m\u001b[0;34m\u001b[0m\u001b[0;34m\u001b[0m\u001b[0m\n\u001b[0m\u001b[1;32m    287\u001b[0m         \u001b[0;32mif\u001b[0m \u001b[0mlen\u001b[0m\u001b[0;34m(\u001b[0m\u001b[0mline\u001b[0m\u001b[0;34m)\u001b[0m \u001b[0;34m>\u001b[0m \u001b[0m_MAXLINE\u001b[0m\u001b[0;34m:\u001b[0m\u001b[0;34m\u001b[0m\u001b[0;34m\u001b[0m\u001b[0m\n\u001b[1;32m    288\u001b[0m             \u001b[0;32mraise\u001b[0m \u001b[0mLineTooLong\u001b[0m\u001b[0;34m(\u001b[0m\u001b[0;34m\"status line\"\u001b[0m\u001b[0;34m)\u001b[0m\u001b[0;34m\u001b[0m\u001b[0;34m\u001b[0m\u001b[0m\n",
            "\u001b[0;32m/usr/lib/python3.11/socket.py\u001b[0m in \u001b[0;36mreadinto\u001b[0;34m(self, b)\u001b[0m\n\u001b[1;32m    716\u001b[0m         \u001b[0;32mwhile\u001b[0m \u001b[0;32mTrue\u001b[0m\u001b[0;34m:\u001b[0m\u001b[0;34m\u001b[0m\u001b[0;34m\u001b[0m\u001b[0m\n\u001b[1;32m    717\u001b[0m             \u001b[0;32mtry\u001b[0m\u001b[0;34m:\u001b[0m\u001b[0;34m\u001b[0m\u001b[0;34m\u001b[0m\u001b[0m\n\u001b[0;32m--> 718\u001b[0;31m                 \u001b[0;32mreturn\u001b[0m \u001b[0mself\u001b[0m\u001b[0;34m.\u001b[0m\u001b[0m_sock\u001b[0m\u001b[0;34m.\u001b[0m\u001b[0mrecv_into\u001b[0m\u001b[0;34m(\u001b[0m\u001b[0mb\u001b[0m\u001b[0;34m)\u001b[0m\u001b[0;34m\u001b[0m\u001b[0;34m\u001b[0m\u001b[0m\n\u001b[0m\u001b[1;32m    719\u001b[0m             \u001b[0;32mexcept\u001b[0m \u001b[0mtimeout\u001b[0m\u001b[0;34m:\u001b[0m\u001b[0;34m\u001b[0m\u001b[0;34m\u001b[0m\u001b[0m\n\u001b[1;32m    720\u001b[0m                 \u001b[0mself\u001b[0m\u001b[0;34m.\u001b[0m\u001b[0m_timeout_occurred\u001b[0m \u001b[0;34m=\u001b[0m \u001b[0;32mTrue\u001b[0m\u001b[0;34m\u001b[0m\u001b[0;34m\u001b[0m\u001b[0m\n",
            "\u001b[0;32m/usr/lib/python3.11/ssl.py\u001b[0m in \u001b[0;36mrecv_into\u001b[0;34m(self, buffer, nbytes, flags)\u001b[0m\n\u001b[1;32m   1312\u001b[0m                   \u001b[0;34m\"non-zero flags not allowed in calls to recv_into() on %s\"\u001b[0m \u001b[0;34m%\u001b[0m\u001b[0;34m\u001b[0m\u001b[0;34m\u001b[0m\u001b[0m\n\u001b[1;32m   1313\u001b[0m                   self.__class__)\n\u001b[0;32m-> 1314\u001b[0;31m             \u001b[0;32mreturn\u001b[0m \u001b[0mself\u001b[0m\u001b[0;34m.\u001b[0m\u001b[0mread\u001b[0m\u001b[0;34m(\u001b[0m\u001b[0mnbytes\u001b[0m\u001b[0;34m,\u001b[0m \u001b[0mbuffer\u001b[0m\u001b[0;34m)\u001b[0m\u001b[0;34m\u001b[0m\u001b[0;34m\u001b[0m\u001b[0m\n\u001b[0m\u001b[1;32m   1315\u001b[0m         \u001b[0;32melse\u001b[0m\u001b[0;34m:\u001b[0m\u001b[0;34m\u001b[0m\u001b[0;34m\u001b[0m\u001b[0m\n\u001b[1;32m   1316\u001b[0m             \u001b[0;32mreturn\u001b[0m \u001b[0msuper\u001b[0m\u001b[0;34m(\u001b[0m\u001b[0;34m)\u001b[0m\u001b[0;34m.\u001b[0m\u001b[0mrecv_into\u001b[0m\u001b[0;34m(\u001b[0m\u001b[0mbuffer\u001b[0m\u001b[0;34m,\u001b[0m \u001b[0mnbytes\u001b[0m\u001b[0;34m,\u001b[0m \u001b[0mflags\u001b[0m\u001b[0;34m)\u001b[0m\u001b[0;34m\u001b[0m\u001b[0;34m\u001b[0m\u001b[0m\n",
            "\u001b[0;32m/usr/lib/python3.11/ssl.py\u001b[0m in \u001b[0;36mread\u001b[0;34m(self, len, buffer)\u001b[0m\n\u001b[1;32m   1164\u001b[0m         \u001b[0;32mtry\u001b[0m\u001b[0;34m:\u001b[0m\u001b[0;34m\u001b[0m\u001b[0;34m\u001b[0m\u001b[0m\n\u001b[1;32m   1165\u001b[0m             \u001b[0;32mif\u001b[0m \u001b[0mbuffer\u001b[0m \u001b[0;32mis\u001b[0m \u001b[0;32mnot\u001b[0m \u001b[0;32mNone\u001b[0m\u001b[0;34m:\u001b[0m\u001b[0;34m\u001b[0m\u001b[0;34m\u001b[0m\u001b[0m\n\u001b[0;32m-> 1166\u001b[0;31m                 \u001b[0;32mreturn\u001b[0m \u001b[0mself\u001b[0m\u001b[0;34m.\u001b[0m\u001b[0m_sslobj\u001b[0m\u001b[0;34m.\u001b[0m\u001b[0mread\u001b[0m\u001b[0;34m(\u001b[0m\u001b[0mlen\u001b[0m\u001b[0;34m,\u001b[0m \u001b[0mbuffer\u001b[0m\u001b[0;34m)\u001b[0m\u001b[0;34m\u001b[0m\u001b[0;34m\u001b[0m\u001b[0m\n\u001b[0m\u001b[1;32m   1167\u001b[0m             \u001b[0;32melse\u001b[0m\u001b[0;34m:\u001b[0m\u001b[0;34m\u001b[0m\u001b[0;34m\u001b[0m\u001b[0m\n\u001b[1;32m   1168\u001b[0m                 \u001b[0;32mreturn\u001b[0m \u001b[0mself\u001b[0m\u001b[0;34m.\u001b[0m\u001b[0m_sslobj\u001b[0m\u001b[0;34m.\u001b[0m\u001b[0mread\u001b[0m\u001b[0;34m(\u001b[0m\u001b[0mlen\u001b[0m\u001b[0;34m)\u001b[0m\u001b[0;34m\u001b[0m\u001b[0;34m\u001b[0m\u001b[0m\n",
            "\u001b[0;31mKeyboardInterrupt\u001b[0m: "
          ]
        }
      ],
      "source": [
        "url1=\"https://attack.mitre.org/techniques/enterprise/\"\n",
        "url1_request=requests.get(url1)\n",
        "if url1_request.status_code==200:\n",
        "  #print(url_request.text)\n",
        "  html_content=BeautifulSoup(url1_request.content,'xml')\n",
        "  table_data=html_content.find('table',class_=\"table-techniques\")\n",
        "  body_info=table_data.find(\"tbody\")\n",
        "  techniques=body_info.find_all('tr',class_=\"technique\")\n",
        "  for i in range(0,10): #total 203\n",
        "    name_url1=techniques[i].find('a')['href']\n",
        "    main_url1=\"https://attack.mitre.org/\"\n",
        "    full_url1=main_url1+name_url1\n",
        "    response=requests.get(full_url1)\n",
        "    if response.status_code==200:\n",
        "      #print(response.text)\n",
        "      technique_html_parser=BeautifulSoup(response.content,'lxml')\n",
        "      main_div=technique_html_parser.find('div',class_=\"container-fluid\")\n",
        "      tech_name=main_div.find('h1').text\n",
        "      header=tech_name.split(\"\\n\")[1].strip()\n",
        "      tech_dict={}\n",
        "      tech_dict.update({\"technique\": header})\n",
        "\n",
        "      body_div=main_div.find('div',class_=\"description-body\").text\n",
        "      description=body_div.replace('\\n',\"\").strip()\n",
        "      tech_dict.update({\"description\": description})\n",
        "\n",
        "      new_id=technique_html_parser.find('div',class_=\"row card-data\")\n",
        "      new_id=new_id.text\n",
        "      new_id=new_id.replace(\"\\n\",\"\").strip().split('\\xa0')\n",
        "      tech_dict.update({'ID':new_id[1]})\n",
        "\n",
        "      sub_tech=main_div.find_all('div',class_=\"col-md-11 pl-0\")\n",
        "      subb=sub_tech[1].text\n",
        "      subb=subb.replace(\"\\n\",\"\").strip()\n",
        "      subb=subb.replace(\" \",\"\").strip()\n",
        "      subb=subb.split('\\xa0')\n",
        "      sub_teqniq=subb[1].strip()\n",
        "      tech_dict.update({'Sub Technique':sub_teqniq})\n",
        "\n",
        "      sub_tactic=main_div.find_all('div',class_=\"col-md-11 pl-0\")\n",
        "      sub_tactic=sub_tactic[2].text\n",
        "      sub_tactic=sub_tactic.replace(\"\\n\",\"\").strip()\n",
        "      sub_tactic=sub_tactic.replace(\" \",\"\").strip()\n",
        "      sub_tactic=sub_tactic[7:]\n",
        "      if sub_tactic.startswith(\":\"):\n",
        "        sub_tactic=sub_tactic[1:]\n",
        "      #sub_tactic=sub_tactic.split(\":\")\n",
        "      tech_dict.update({\"Tactic\":sub_tactic})\n",
        "\n",
        "      platforms=main_div.find_all('div',class_=\"col-md-11 pl-0\")\n",
        "      platforms=platforms[3].text\n",
        "      platforms=platforms.replace(\"\\n\",\"\").strip()\n",
        "      platforms=platforms.split('\\xa0')\n",
        "      platforms=platforms[1].strip()\n",
        "      tech_dict.update({'Platforms':platforms})\n",
        "\n",
        "      imp_type=main_div.find_all('div',class_=\"col-md-11 pl-0\")\n",
        "      imp_type=imp_type[4].text\n",
        "      imp_type=imp_type.replace(\"\\n\",\"\").strip()\n",
        "      imp_type=imp_type.split('\\xa0')\n",
        "      imp_type=imp_type[1].strip()\n",
        "      tech_dict.update({'Impacted Type':imp_type})\n",
        "\n",
        "      contributor=main_div.find_all('div',class_=\"col-md-11 pl-0\")\n",
        "      contributor=contributor[5].text\n",
        "      contributor=contributor.replace(\"\\n\",\"\").strip()\n",
        "      contributor=contributor.split('\\xa0')\n",
        "      contributor=contributor[1].strip()\n",
        "      tech_dict.update({'Contributor':contributor})\n",
        "\n",
        "      versions=main_div.find_all('div',class_=\"col-md-11 pl-0\")\n",
        "      versions=versions[-3].text\n",
        "      versions=versions.replace(\"\\n\",\"\").strip()\n",
        "      versions=versions.split('\\xa0')\n",
        "      versions=versions[1].strip()\n",
        "      tech_dict.update({'Versions':versions})\n",
        "\n",
        "      created=main_div.find_all('div',class_=\"col-md-11 pl-0\")\n",
        "      created=created[-2].text\n",
        "      created=created.replace(\"\\n\",\"\").strip()\n",
        "      created=created.split('\\xa0')\n",
        "      created=created[1].strip()\n",
        "      tech_dict.update({'Created':created})\n",
        "\n",
        "      sub_tech=main_div.find_all('div',class_=\"col-md-11 pl-0\")\n",
        "      last_modifyd=sub_tech[-1].text\n",
        "      last_modifyd=last_modifyd.replace(\"\\n\",\"\").strip()\n",
        "      last_modifyd=last_modifyd.split('\\xa0')\n",
        "      last_modifyd=last_modifyd[1].strip()\n",
        "      tech_dict.update({'Last Modified':last_modifyd})\n",
        "      print(tech_dict)\n",
        "\n"
      ]
    },
    {
      "cell_type": "code",
      "execution_count": 200,
      "metadata": {
        "colab": {
          "base_uri": "https://localhost:8080/"
        },
        "id": "oOO-LGHkTuhO",
        "outputId": "9e8544d7-e893-4429-d7f9-ef70db87f897"
      },
      "outputs": [
        {
          "name": "stdout",
          "output_type": "stream",
          "text": [
            "{'Group Name': 'admin@338', 'Description': 'admin@338 is a China-based cyber threat group. It has previously used newsworthy events as lures to deliver malware and has primarily targeted organizations involved in financial, economic, and trade policy, typically using publicly available RATs such as PoisonIvy, as well as some non-public backdoors. [1]', 'ID': 'G0018', 'Contributor': 'Tatsuya Daitoku, Cyber Defense Institute, Inc.', 'Versions': '1.2', 'Created': '31 May 2017', 'Last Modified': '18 March 2020'}\n",
            "{'Group Name': 'Agrius', 'Description': \"Agrius is an Iranian threat actor active since 2020 notable for a series of ransomware and wiper operations in the Middle East, with an emphasis on Israeli targets.[1][2] Public reporting has linked Agrius to Iran's Ministry of Intelligence and Security (MOIS).[3]\", 'ID': 'G1030', 'Contributor': 'Asritha Narina', 'Versions': '1.0', 'Created': '21 May 2024', 'Last Modified': '29 August 2024'}\n",
            "{'Group Name': 'Ajax Security Team', 'Description': 'Ajax Security Team is a group that has been active since at least 2010 and believed to be operating out of Iran. By 2014 Ajax Security Team transitioned from website defacement operations to malware-based cyber espionage campaigns targeting the US defense industrial base and Iranian users of anti-censorship technologies.[1]', 'ID': 'G0130', 'Contributor': 'oups: Operation Woolen-Goldfish, AjaxTM, Rocket Kitten, Flying Kitten, Operation Saffron Rose', 'Versions': '1.0', 'Created': '14 April 2021', 'Last Modified': '09 October 2023'}\n",
            "{'Group Name': 'Akira', 'Description': 'Akira is a ransomware variant and ransomware deployment entity active since at least March 2023.[1] Akira uses compromised credentials to access single-factor external access mechanisms such as VPNs for initial access, then various publicly-available tools and techniques for lateral movement.[1][2] Akira operations are associated with \"double extortion\" ransomware activity, where data is exfiltrated from victim environments prior to encryption, with threats to publish files if a ransom is not paid. Technical analysis of Akira ransomware indicates multiple overlaps with and similarities to Conti malware.[3]', 'ID': 'G1024', 'Contributor': 'oups: GOLD SAHARA, PUNK SPIDER', 'Versions': '1.0', 'Created': '20 February 2024', 'Last Modified': '03 October 2024'}\n",
            "{'Group Name': 'ALLANITE', 'Description': \"ALLANITE is a suspected Russian cyber espionage group, that has primarily targeted the electric utility sector within the United States and United Kingdom. The group's tactics and techniques are reportedly similar to Dragonfly, although ALLANITEs technical capabilities have not exhibited disruptive or destructive abilities. It has been suggested that the group maintains a presence in ICS for the purpose of gaining understanding of processes and to maintain persistence. [1]\", 'ID': 'G1000', 'Contributor': 'Dragos Threat Intelligence', 'Versions': '1.0', 'Created': '31 May 2017', 'Last Modified': '24 May 2022'}\n",
            "{'Group Name': 'Andariel', 'Description': \"Andariel is a North Korean state-sponsored threat group that has been active since at least 2009. Andariel has primarily focused its operations--which have included destructive attacks--against South Korean government agencies, military organizations, and a variety of domestic companies; they have also conducted cyber financial operations against ATMs, banks, and cryptocurrency exchanges. Andariel's notable activity includes Operation Black Mine, Operation GoldenAxe, and Campaign Rifle.[1][2][3][4][5]Andariel is considered a sub-set of Lazarus Group, and has been attributed to North Korea's Reconnaissance General Bureau.[6]North Korean group definitions are known to have significant overlap, and some security researchers report all North Korean state-sponsored cyber activity under the name Lazarus Group instead of tracking clusters or subgroups.\", 'ID': 'G0138', 'Contributor': 'Kyoung-ju Kwak (S2W)', 'Versions': '2.0', 'Created': '29 September 2021', 'Last Modified': '12 September 2024'}\n",
            "{'Group Name': 'Aoqin Dragon', 'Description': 'Aoqin Dragon is a suspected Chinese cyber espionage threat group that has been active since at least 2013. Aoqin Dragon has primarily targeted government, education, and telecommunication organizations in Australia, Cambodia, Hong Kong, Singapore, and Vietnam. Security researchers noted a potential association between Aoqin Dragon and UNC94, based on malware, infrastructure, and targets.[1]', 'ID': 'G1007', 'Contributor': 'Hiroki Nagahama, NEC Corporation; Pooja Natarajan, NEC Corporation India; Manikantan Srinivasan, NEC Corporation India', 'Versions': '1.0', 'Created': '14 July 2022', 'Last Modified': '24 October 2022'}\n",
            "{'Group Name': 'APT-C-23', 'Description': 'APT-C-23 is a threat group that has been active since at least 2014.[1] APT-C-23 has primarily focused its operations on the Middle East, including Israeli military assets. APT-C-23 has developed mobile spyware targeting Android and iOS devices since 2017.[2]', 'ID': 'G1028', 'Contributor': 'Sittikorn Sangrattanapitak', 'Versions': '1.0', 'Created': '26 March 2024', 'Last Modified': '16 April 2024'}\n",
            "{'Group Name': 'APT-C-36', 'Description': 'APT-C-36 is a suspected South America espionage group that has been active since at least 2018. The group mainly targets Colombian government institutions as well as important corporations in the financial sector, petroleum industry, and professional manufacturing.[1]', 'ID': 'G0099', 'Contributor': 'Jose Luis Sánchez Martinez', 'Versions': '1.1', 'Created': '05 May 2020', 'Last Modified': '26 May 2021'}\n",
            "{'Group Name': 'APT1', 'Description': 'APT1 is a Chinese threat group that has been attributed to the 2nd Bureau of the People’s Liberation Army (PLA) General Staff Department’s (GSD) 3rd Department, commonly known by its Military Unit Cover Designator (MUCD) as Unit 61398. [1]', 'ID': 'G0006', 'Contributor': 'oups: Comment Crew, Comment Group, Comment Panda', 'Versions': '1.4', 'Created': '31 May 2017', 'Last Modified': '26 May 2021'}\n"
          ]
        }
      ],
      "source": [
        "\"\"\"\n",
        " FOR GROUPS\n",
        " \"\"\"\n",
        "\n",
        "\n",
        "url2=\"https://attack.mitre.org/groups/\"\n",
        "url2_request=requests.get(url2)\n",
        "if url2_request.status_code==200:\n",
        "  #print(url_request.text)\n",
        "  html_content2=BeautifulSoup(url2_request.content,'xml')\n",
        "  table_data2=html_content2.find('table',class_=\"table table-bordered table-alternate mt-2\")\n",
        "  groups=table_data2.find_all(\"tbody\")\n",
        "  groupstr=groups[0].find_all('tr')\n",
        "\n",
        "  for i in range(0,10): #total 163\n",
        "    name_url2=groupstr[i].find('a')['href']\n",
        "    main_url2=\"https://attack.mitre.org/\"\n",
        "    full_url2=main_url2+name_url2\n",
        "    response2=requests.get(full_url2)\n",
        "    if response2.status_code==200:\n",
        "      #print(response.text)\n",
        "      group_html_parser=BeautifulSoup(response2.content,'lxml')\n",
        "      main_div2=group_html_parser.find('div',class_=\"container-fluid\")\n",
        "      group_name=main_div2.find('h1').text\n",
        "      group_name=group_name.split(\"\\n\")[1].strip()\n",
        "      group_dict={}\n",
        "      group_dict.update({\"Group Name\": group_name})\n",
        "\n",
        "      body_div2=main_div2.find('div',class_=\"description-body\").text\n",
        "      description2=body_div2.replace('\\n',\"\").strip()\n",
        "      group_dict.update({\"Description\": description2})\n",
        "\n",
        "      new_id2=group_html_parser.find('div',class_=\"row card-data\")\n",
        "      new_id2=new_id2.text\n",
        "      new_id2=new_id2.replace(\"\\n\",\"\").strip().split('\\xa0')\n",
        "      group_dict.update({'ID':new_id2[1]})\n",
        "\n",
        "\n",
        "      contributor2=main_div2.find_all('div',class_=\"row card-data\")\n",
        "      contributors=contributor2[-4].text\n",
        "      contributors=contributors.replace(\"\\n\",\"\").strip()\n",
        "      group_dict.update({'Contributor':contributors[14:]})\n",
        "\n",
        "      versions2=main_div2.find_all('div',class_=\"row card-data\")\n",
        "      versions2=versions2[-3].text\n",
        "      versions2=versions2.replace(\"\\n\",\"\").strip()\n",
        "      group_dict.update({'Versions':versions2[9:]})\n",
        "\n",
        "      created2=main_div2.find_all('div',class_=\"row card-data\")\n",
        "      created2=created2[-2].text\n",
        "      created2=created2.replace(\"\\n\",\"\").strip()\n",
        "      created2=created2.split('\\xa0')\n",
        "      created2=created2[1].strip()\n",
        "      group_dict.update({'Created':created2})\n",
        "\n",
        "      last_modifyd2=main_div2.find_all('div',class_=\"row card-data\")\n",
        "      last_modifyd2=last_modifyd2[-1].text\n",
        "      last_modifyd2=last_modifyd2.replace(\"\\n\",\"\").strip()\n",
        "      group_dict.update({'Last Modified':last_modifyd2[15:]})\n",
        "\n",
        "      print(group_dict)"
      ]
    },
    {
      "cell_type": "code",
      "execution_count": 214,
      "metadata": {
        "colab": {
          "base_uri": "https://localhost:8080/"
        },
        "id": "NaLJigstP7Yy",
        "outputId": "d8181231-b3ca-4282-fb34-639d07319cba"
      },
      "outputs": [
        {
          "name": "stdout",
          "output_type": "stream",
          "text": [
            "{'Software Name': '3PARA RAT', 'Description': '3PARA RAT is a remote access tool (RAT) programmed in C++ that has been used by Putter Panda. [1]', 'ID': 'S0066', 'Type': 'MALWARE', 'Platform': 'Windows', 'Version': '1.1', 'Contributor': 'ndows', 'Created': '31 May 2017', 'Last Modified': '30 March 2020'}\n",
            "{'Software Name': '4H RAT', 'Description': '4H RAT is malware that has been used by Putter Panda since at least 2007. [1]', 'ID': 'S0065', 'Type': 'MALWARE', 'Platform': 'Windows', 'Version': '1.1', 'Contributor': 'ndows', 'Created': '31 May 2017', 'Last Modified': '30 March 2020'}\n",
            "{'Software Name': 'AADInternals', 'Description': 'AADInternals is a PowerShell-based framework for administering, enumerating, and exploiting Azure Active Directory. The tool is publicly available on GitHub.[1][2]', 'ID': 'S0677', 'Type': 'TOOL', 'Platform': 'Windows, Office Suite, Identity Provider', 'Version': '1.2', 'Contributor': 'ndows, Office Suite, Identity Provider', 'Created': '01 February 2022', 'Last Modified': '14 October 2024'}\n",
            "{'Software Name': 'ABK', 'Description': 'ABK is a downloader that has been used by BRONZE BUTLER since at least 2019.[1]', 'ID': 'S0469', 'Type': 'MALWARE', 'Platform': 'Windows', 'Version': '1.0', 'Contributor': 'ndows', 'Created': '10 June 2020', 'Last Modified': '24 June 2020'}\n",
            "{'Software Name': 'AbstractEmu', 'Description': 'AbstractEmu is mobile malware that was first seen in Google Play and other third-party stores in October 2021. It was discovered in 19 Android applications, of which at least 7 abused known Android exploits for obtaining root permissions. AbstractEmu was observed primarily impacting users in the United States, however victims are believed to be across a total of 17 countries.[1]', 'ID': 'S1061', 'Type': 'MALWARE', 'Platform': 'Android', 'Version': '1.0', 'Contributor': 'droid', 'Created': '06 February 2023', 'Last Modified': '13 April 2023'}\n",
            "{'Software Name': 'ACAD/Medre.A', 'Description': 'ACAD/Medre.A is a worm that steals operational information. The worm collects AutoCAD files with drawings. ACAD/Medre.A has the capability to be used for industrial espionage.[1]', 'ID': 'S1000', 'Type': 'MALWARE', 'Platform': '', 'Version': '31 May 2017', 'Contributor': '', 'Created': '31 May 2017', 'Last Modified': '12 October 2022'}\n",
            "{'Software Name': 'AcidRain', 'Description': 'AcidRain is an ELF binary targeting modems and routers using MIPS architecture.[1] AcidRain is associated with the ViaSat KA-SAT communication outage that took place during the initial phases of the 2022 full-scale invasion of Ukraine. Analysis indicates overlap with another network device-targeting malware, VPNFilter, associated with Sandworm Team.[1] US and European government sources linked AcidRain to Russian government entities, while Ukrainian government sources linked AcidRain specifically to Sandworm Team.[2][3]', 'ID': 'S1125', 'Type': 'MALWARE', 'Platform': 'Network, Linux', 'Version': '1.0', 'Contributor': 'twork, Linux', 'Created': '25 March 2024', 'Last Modified': '12 April 2024'}\n",
            "{'Software Name': 'Action RAT', 'Description': 'Action RAT is a  remote access tool written in Delphi that has been used by SideCopy since at least December 2021 against Indian and Afghani government personnel.[1]', 'ID': 'S1028', 'Type': 'MALWARE', 'Platform': 'Windows', 'Version': '1.0', 'Contributor': 'ndows', 'Created': '07 August 2022', 'Last Modified': '24 August 2022'}\n",
            "{'Software Name': 'adbupd', 'Description': 'adbupd is a backdoor used by PLATINUM that is similar to Dipsind. [1]', 'ID': 'S0202', 'Type': 'MALWARE', 'Platform': 'Windows', 'Version': 'ors: Ryan Becwar', 'Contributor': 'Ryan Becwar', 'Created': '18 April 2018', 'Last Modified': '30 March 2020'}\n",
            "{'Software Name': 'AdFind', 'Description': 'AdFind is a free command-line query tool that can be used for gathering information from Active Directory.[1][2][3]', 'ID': 'S0552', 'Type': 'TOOL', 'Platform': 'Windows', 'Version': '1.5', 'Contributor': 'ndows', 'Created': '28 December 2020', 'Last Modified': '25 September 2024'}\n"
          ]
        }
      ],
      "source": [
        "\"\"\"\"\n",
        "    SOFTWARE\n",
        "\n",
        "\"\"\"\n",
        "\n",
        "\n",
        "url3=\"https://attack.mitre.org/software/\"\n",
        "url3_request=requests.get(url3)\n",
        "if url3_request.status_code==200:\n",
        "  #print(url_request.text)\n",
        "  html_content3=BeautifulSoup(url3_request.content,'xml')\n",
        "  table_data3=html_content3.find('table',class_=\"table table-bordered table-alternate mt-2\")\n",
        "  software=table_data3.find_all(\"tbody\")\n",
        "  software_str=software[0].find_all('tr')\n",
        "  for i in range(0,10): #total 826\n",
        "    name_url3=software_str[i].find('a')['href']\n",
        "    main_url3=\"https://attack.mitre.org/\"\n",
        "    full_url3=main_url3+name_url3\n",
        "    response3=requests.get(full_url3)\n",
        "    if response3.status_code==200:\n",
        "      software_html_parser=BeautifulSoup(response3.content,'lxml')\n",
        "      main_div3=software_html_parser.find('div',class_=\"container-fluid\")\n",
        "      software_name=main_div3.find('h1').text\n",
        "      software_name=software_name.split(\"\\n\")[1].strip()\n",
        "\n",
        "      software_dict={}\n",
        "      software_dict.update({\"Software Name\": software_name})\n",
        "\n",
        "      body_div3=main_div3.find('div',class_=\"description-body\").text\n",
        "      description3=body_div3.replace('\\n',\"\").strip()\n",
        "      software_dict.update({\"Description\": description3})\n",
        "\n",
        "      new_id3=software_html_parser.find('div',class_=\"row card-data\")\n",
        "      new_id3=new_id3.text\n",
        "      new_id3=new_id3.replace(\"\\n\",\"\").strip().split('\\xa0')\n",
        "      software_dict.update({'ID':new_id3[1]})\n",
        "\n",
        "      s_type=main_div3.find_all('div',class_=\"row card-data\")\n",
        "      s_type=s_type[1].text\n",
        "      s_type=s_type.replace(\"\\n\",\"\").strip()\n",
        "      software_dict.update({'Type':s_type[7:]})\n",
        "\n",
        "      s_platform=main_div3.find_all('div',class_=\"row card-data\")\n",
        "      s_platform=s_platform[2].text\n",
        "      s_platform=s_platform.replace(\"\\n\",\"\").strip()\n",
        "      software_dict.update({'Platform':s_platform[12:]})\n",
        "\n",
        "      s_version=main_div3.find_all('div',class_=\"row card-data\")\n",
        "      s_version=s_version[3].text\n",
        "      s_version=s_version.replace(\"\\n\",\"\").strip()\n",
        "      software_dict.update({'Version':s_version[9:]})\n",
        "\n",
        "      s_contributor=main_div3.find_all('div',class_=\"row card-data\")\n",
        "      s_contributor=s_contributor[-4].text\n",
        "      s_contributor=s_contributor.replace(\"\\n\",\"\").strip()\n",
        "      software_dict.update({'Contributor':s_contributor[14:]})\n",
        "\n",
        "      s_created=main_div3.find_all('div',class_=\"row card-data\")\n",
        "      s_created=s_created[-2].text\n",
        "      s_created=s_created.replace(\"\\n\",\"\").strip()\n",
        "      s_created=s_created.split('\\xa0')\n",
        "      s_created=s_created[1].strip()\n",
        "      software_dict.update({'Created':s_created})\n",
        "\n",
        "      s_lastmodify=main_div3.find_all('div',class_=\"row card-data\")\n",
        "      s_lastmodify=s_lastmodify[-1].text\n",
        "      s_lastmodify=s_lastmodify.replace(\"\\n\",\"\").strip()\n",
        "      s_lastmodify=s_lastmodify.split('\\xa0')\n",
        "      s_lastmodify=s_lastmodify[1].strip()\n",
        "      software_dict.update({'Last Modified':s_lastmodify})\n",
        "\n",
        "      print(software_dict)"
      ]
    },
    {
      "cell_type": "code",
      "execution_count": 182,
      "metadata": {
        "colab": {
          "base_uri": "https://localhost:8080/",
          "height": 35
        },
        "id": "tJNEtg8QSufc",
        "outputId": "d30a52a4-a49c-4bee-d602-182c69ac451a"
      },
      "outputs": [
        {
          "data": {
            "application/vnd.google.colaboratory.intrinsic+json": {
              "type": "string"
            },
            "text/plain": [
              "'AdFind'"
            ]
          },
          "execution_count": 182,
          "metadata": {},
          "output_type": "execute_result"
        }
      ],
      "source": [
        "software_name"
      ]
    }
  ],
  "metadata": {
    "colab": {
      "provenance": []
    },
    "kernelspec": {
      "display_name": "Python 3",
      "name": "python3"
    },
    "language_info": {
      "codemirror_mode": {
        "name": "ipython",
        "version": 3
      },
      "file_extension": ".py",
      "mimetype": "text/x-python",
      "name": "python",
      "nbconvert_exporter": "python",
      "pygments_lexer": "ipython3",
      "version": "3.11.3"
    }
  },
  "nbformat": 4,
  "nbformat_minor": 0
}
